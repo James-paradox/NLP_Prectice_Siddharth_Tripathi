{
 "cells": [
  {
   "cell_type": "code",
   "execution_count": 7,
   "metadata": {},
   "outputs": [
    {
     "name": "stdout",
     "output_type": "stream",
     "text": [
      "[]\n"
     ]
    }
   ],
   "source": [
    "import re\n",
    "\n",
    "my_file = open('Sid.txt','r')  \n",
    "\n",
    "string = my_file.read()\n",
    "extract_phone = '\\(?([0-9]{2})\\)?([ .-]?)([0-9]{10})'  #regex to find the phone numbers\n",
    "\n",
    "result = re.findall(extract_phone, string)\n",
    "print(result)\n",
    "# print(\"Your number is :\", \"\".join(list(result[0])))\n"
   ]
  },
  {
   "cell_type": "code",
   "execution_count": 3,
   "metadata": {},
   "outputs": [
    {
     "name": "stdout",
     "output_type": "stream",
     "text": [
      "Your email is :  siddharthtripathi753@gmail.com\n"
     ]
    }
   ],
   "source": [
    "\n",
    "import re\n",
    "my_file = open('Sid.txt','r')  \n",
    "\n",
    "string2 = my_file.read()\n",
    "extract_mail = '([a-zA-Z0-9._-]+@[a-zA-Z0-9._-]+\\.[a-zA-Z0-9_-]+)'  #regex to find the email address\n",
    "\n",
    "result1 = re.findall(extract_mail, string2)\n",
    "\n",
    "print(\"Your email is : \", \"\".join(list(result1[0])))"
   ]
  },
  {
   "cell_type": "code",
   "execution_count": 4,
   "metadata": {},
   "outputs": [
    {
     "name": "stdout",
     "output_type": "stream",
     "text": [
      "Your skils are :  Python\n",
      "Your skils are :  DBMS-SQL\n",
      "Your skils are :  Java Core\n",
      "Your skils are :  Basic Data Structure\n"
     ]
    }
   ],
   "source": [
    "\n",
    "import re\n",
    "my_file = open('Sid.txt','r') \n",
    "\n",
    "string2 = my_file.read()\n",
    "extract_skill = ['Python','DBMS-SQL','Java Core', 'Basic Data Structure'] #regex to find the skills\n",
    "result1 = re.findall(extract_mail, string2)\n",
    "output = []\n",
    "\n",
    "for i in extract_skill:\n",
    "    output.append(re.findall(i, string2))\n",
    "    print(\"Your skils are : \", \"\".join(list(i)))\n",
    "    \n",
    "# The output formatting is not so good but we tried our best."
   ]
  },
  {
   "cell_type": "code",
   "execution_count": null,
   "metadata": {},
   "outputs": [],
   "source": []
  }
 ],
 "metadata": {
  "kernelspec": {
   "display_name": "Python 3",
   "language": "python",
   "name": "python3"
  },
  "language_info": {
   "codemirror_mode": {
    "name": "ipython",
    "version": 3
   },
   "file_extension": ".py",
   "mimetype": "text/x-python",
   "name": "python",
   "nbconvert_exporter": "python",
   "pygments_lexer": "ipython3",
   "version": "3.7.4"
  }
 },
 "nbformat": 4,
 "nbformat_minor": 2
}
